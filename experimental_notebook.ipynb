{
 "cells": [
  {
   "cell_type": "code",
   "execution_count": 95,
   "id": "featured-elements",
   "metadata": {},
   "outputs": [],
   "source": [
    "import pandas as pd\n",
    "from fbprophet import Prophet\n",
    "from coinpaprika import client as Coinpaprika\n",
    "import numpy as np"
   ]
  },
  {
   "cell_type": "code",
   "execution_count": 96,
   "id": "durable-remove",
   "metadata": {},
   "outputs": [],
   "source": [
    "### Get a year historical OHLCV information for a specific coin (BTC)\n",
    "def load_year(year):\n",
    "    client = Coinpaprika.Client()\n",
    "    data = pd.DataFrame(client.candles(\"btc-bitcoin\", start=\"{}-01-11T00:00:00Z\".format(year), \n",
    "                                       end = \"{}-04-11T00:00:00Z\".format(year+1)))\n",
    "    dates = []\n",
    "    times = []\n",
    "    for i in range(len(data[\"time_close\"])):\n",
    "        d, t = data[\"time_close\"][i].split(\"T\")\n",
    "        dates.append(d)\n",
    "        times.append(t)\n",
    "    \n",
    "    dates = np.array(dates, dtype = \"datetime64\" )\n",
    "    yval = data[\"close\"].values.reshape(-1,1)\n",
    "    return yval, dates\n",
    "\n",
    "def prep_transform(data,n_input, n_out):\n",
    "    x, y = [],[]\n",
    "    in_start = 0\n",
    "    for _ in range(len(data)):\n",
    "        in_end = in_start + n_input\n",
    "        out_end = n_out + in_end\n",
    "        if (out_end < len(data)):\n",
    "            x_inp = data[in_start: in_end].reshape((n_input, 1))\n",
    "            x.append(x_inp)\n",
    "            y_inp = data[in_end: out_end, 0]\n",
    "            y.append(y_inp)\n",
    "        in_start = in_start + 1 \n",
    "    return np.array(x), np.array(y)"
   ]
  },
  {
   "cell_type": "code",
   "execution_count": 97,
   "id": "early-privilege",
   "metadata": {},
   "outputs": [],
   "source": [
    "y , date = load_year(2019)"
   ]
  },
  {
   "cell_type": "code",
   "execution_count": 98,
   "id": "happy-middle",
   "metadata": {},
   "outputs": [],
   "source": [
    "df_dict = {\n",
    "    \"ds\": date,\n",
    "    \"y\": y.reshape(len(y))\n",
    "}\n",
    "df = pd.DataFrame(df_dict)"
   ]
  },
  {
   "cell_type": "code",
   "execution_count": 99,
   "id": "environmental-allowance",
   "metadata": {},
   "outputs": [
    {
     "name": "stderr",
     "output_type": "stream",
     "text": [
      "INFO:fbprophet:Disabling yearly seasonality. Run prophet with yearly_seasonality=True to override this.\n",
      "INFO:fbprophet:Disabling daily seasonality. Run prophet with daily_seasonality=True to override this.\n"
     ]
    },
    {
     "data": {
      "text/plain": [
       "<fbprophet.forecaster.Prophet at 0x7f75aefb3a90>"
      ]
     },
     "execution_count": 99,
     "metadata": {},
     "output_type": "execute_result"
    }
   ],
   "source": [
    "model = Prophet()\n",
    "model.fit(df)"
   ]
  },
  {
   "cell_type": "code",
   "execution_count": 100,
   "id": "curious-poster",
   "metadata": {},
   "outputs": [
    {
     "data": {
      "text/html": [
       "<div>\n",
       "<style scoped>\n",
       "    .dataframe tbody tr th:only-of-type {\n",
       "        vertical-align: middle;\n",
       "    }\n",
       "\n",
       "    .dataframe tbody tr th {\n",
       "        vertical-align: top;\n",
       "    }\n",
       "\n",
       "    .dataframe thead th {\n",
       "        text-align: right;\n",
       "    }\n",
       "</style>\n",
       "<table border=\"1\" class=\"dataframe\">\n",
       "  <thead>\n",
       "    <tr style=\"text-align: right;\">\n",
       "      <th></th>\n",
       "      <th>ds</th>\n",
       "    </tr>\n",
       "  </thead>\n",
       "  <tbody>\n",
       "    <tr>\n",
       "      <th>725</th>\n",
       "      <td>2021-01-05</td>\n",
       "    </tr>\n",
       "    <tr>\n",
       "      <th>726</th>\n",
       "      <td>2021-01-06</td>\n",
       "    </tr>\n",
       "    <tr>\n",
       "      <th>727</th>\n",
       "      <td>2021-01-07</td>\n",
       "    </tr>\n",
       "    <tr>\n",
       "      <th>728</th>\n",
       "      <td>2021-01-08</td>\n",
       "    </tr>\n",
       "    <tr>\n",
       "      <th>729</th>\n",
       "      <td>2021-01-09</td>\n",
       "    </tr>\n",
       "  </tbody>\n",
       "</table>\n",
       "</div>"
      ],
      "text/plain": [
       "            ds\n",
       "725 2021-01-05\n",
       "726 2021-01-06\n",
       "727 2021-01-07\n",
       "728 2021-01-08\n",
       "729 2021-01-09"
      ]
     },
     "execution_count": 100,
     "metadata": {},
     "output_type": "execute_result"
    }
   ],
   "source": [
    "future = model.make_future_dataframe(periods=365)\n",
    "future.tail()"
   ]
  },
  {
   "cell_type": "code",
   "execution_count": 101,
   "id": "present-invite",
   "metadata": {},
   "outputs": [
    {
     "data": {
      "text/html": [
       "<div>\n",
       "<style scoped>\n",
       "    .dataframe tbody tr th:only-of-type {\n",
       "        vertical-align: middle;\n",
       "    }\n",
       "\n",
       "    .dataframe tbody tr th {\n",
       "        vertical-align: top;\n",
       "    }\n",
       "\n",
       "    .dataframe thead th {\n",
       "        text-align: right;\n",
       "    }\n",
       "</style>\n",
       "<table border=\"1\" class=\"dataframe\">\n",
       "  <thead>\n",
       "    <tr style=\"text-align: right;\">\n",
       "      <th></th>\n",
       "      <th>ds</th>\n",
       "      <th>yhat</th>\n",
       "      <th>yhat_lower</th>\n",
       "      <th>yhat_upper</th>\n",
       "    </tr>\n",
       "  </thead>\n",
       "  <tbody>\n",
       "    <tr>\n",
       "      <th>725</th>\n",
       "      <td>2021-01-05</td>\n",
       "      <td>-1480.675293</td>\n",
       "      <td>-13708.927764</td>\n",
       "      <td>9869.404174</td>\n",
       "    </tr>\n",
       "    <tr>\n",
       "      <th>726</th>\n",
       "      <td>2021-01-06</td>\n",
       "      <td>-1479.082243</td>\n",
       "      <td>-14229.721065</td>\n",
       "      <td>9931.006787</td>\n",
       "    </tr>\n",
       "    <tr>\n",
       "      <th>727</th>\n",
       "      <td>2021-01-07</td>\n",
       "      <td>-1582.084744</td>\n",
       "      <td>-14285.655218</td>\n",
       "      <td>9798.311658</td>\n",
       "    </tr>\n",
       "    <tr>\n",
       "      <th>728</th>\n",
       "      <td>2021-01-08</td>\n",
       "      <td>-1518.015919</td>\n",
       "      <td>-14035.656245</td>\n",
       "      <td>9705.630689</td>\n",
       "    </tr>\n",
       "    <tr>\n",
       "      <th>729</th>\n",
       "      <td>2021-01-09</td>\n",
       "      <td>-1554.520503</td>\n",
       "      <td>-14387.364939</td>\n",
       "      <td>9972.183591</td>\n",
       "    </tr>\n",
       "  </tbody>\n",
       "</table>\n",
       "</div>"
      ],
      "text/plain": [
       "            ds         yhat    yhat_lower   yhat_upper\n",
       "725 2021-01-05 -1480.675293 -13708.927764  9869.404174\n",
       "726 2021-01-06 -1479.082243 -14229.721065  9931.006787\n",
       "727 2021-01-07 -1582.084744 -14285.655218  9798.311658\n",
       "728 2021-01-08 -1518.015919 -14035.656245  9705.630689\n",
       "729 2021-01-09 -1554.520503 -14387.364939  9972.183591"
      ]
     },
     "execution_count": 101,
     "metadata": {},
     "output_type": "execute_result"
    }
   ],
   "source": [
    "# Python\n",
    "forecast = model.predict(future)\n",
    "forecast[['ds', 'yhat', 'yhat_lower', 'yhat_upper']].tail()\n"
   ]
  },
  {
   "cell_type": "code",
   "execution_count": 102,
   "id": "short-romance",
   "metadata": {},
   "outputs": [
    {
     "data": {
      "image/png": "[encoded data removed]",
      "text/plain": [
       "<Figure size 720x432 with 1 Axes>"
      ]
     },
     "metadata": {},
     "output_type": "display_data"
    }
   ],
   "source": [
    "# Python\n",
    "fig1 = model.plot(forecast)"
   ]
  },
  {
   "cell_type": "code",
   "execution_count": 103,
   "id": "electoral-scottish",
   "metadata": {},
   "outputs": [],
   "source": [
    "forecast.to_csv(\"forcast.csv\")"
   ]
  },
  {
   "cell_type": "code",
   "execution_count": 61,
   "id": "saved-bracket",
   "metadata": {},
   "outputs": [],
   "source": [
    "yhat_lower = forecast[\"yhat_lower\"].to_numpy()\n",
    "yhat_upper = forecast[\"yhat_upper\"].to_numpy()\n",
    "yhat = forecast[\"yhat\"].to_numpy()"
   ]
  },
  {
   "cell_type": "code",
   "execution_count": 86,
   "id": "little-muscle",
   "metadata": {},
   "outputs": [],
   "source": [
    "error = ((yhat_upper - yhat_lower)/2)/abs(yhat)*100"
   ]
  },
  {
   "cell_type": "code",
   "execution_count": 87,
   "id": "accurate-vector",
   "metadata": {},
   "outputs": [
    {
     "data": {
      "text/plain": [
       "73766.39236769517"
      ]
     },
     "execution_count": 87,
     "metadata": {},
     "output_type": "execute_result"
    }
   ],
   "source": [
    "max(error)"
   ]
  },
  {
   "cell_type": "code",
   "execution_count": 88,
   "id": "natural-orleans",
   "metadata": {
    "scrolled": true
   },
   "outputs": [
    {
     "data": {
      "application/vnd.plotly.v1+json": {
       "config": {
        "plotlyServerURL": "https://plot.ly"
       },
       "data": [
        {
         "type": "bar",
         "y": [
          40.170740981802965,
          38.044378307814625,
          36.35128610713272,
          35.97536281393335,
          39.64611165450928,
          35.65222235692262,
          37.77794266920553,
          34.19871312920227,
          35.345957765916296,
          36.38988667880016,
          34.00659807120622,
          35.77436582461753,
          37.39646008941152,
          36.613531957979234,
          35.157545054361236,
          34.81947003566693,
          34.94081251758395,
          34.573781647125564,
          36.23431026032492,
          32.95901640854238,
          34.95687876216994,
          35.12060600598163,
          34.7405987472188,
          35.01797635117744,
          35.35453629966409,
          36.00645145506925,
          32.744027694358266,
          35.901201140099296,
          34.235548926344904,
          32.94231737192413,
          32.957475790265306,
          30.919260736115895,
          33.93163410536439,
          33.47244416185505,
          36.18174526113403,
          33.43053705592818,
          31.888665420238503,
          33.633112545633296,
          32.53363598707874,
          33.05925878054386,
          33.30609529207415,
          31.58967751551757,
          32.190000771437724,
          32.89800447893986,
          32.16000964191827,
          32.541490844986264,
          33.168855140236495,
          32.90916663783818,
          32.07999191803864,
          29.98475645935818,
          31.40923090959688,
          31.195330265052224,
          30.36718624679552,
          31.519083867467817,
          31.86125771868589,
          31.363037464916577,
          30.204691636496207,
          30.966348195456035,
          31.475519915070816,
          30.67161090839612,
          31.392688805022207,
          30.934201466630267,
          32.03152953662396,
          29.246313513072614,
          28.91594356826045,
          30.24121351336257,
          30.589510296384947,
          28.812094432900974,
          28.60192327685783,
          30.375390269906156,
          29.036437056124235,
          29.326873764360666,
          28.304281658149872,
          28.14139826178572,
          27.572569546729973,
          29.403971625942376,
          29.115069217244095,
          26.99100638924184,
          29.068688682496475,
          28.05763799603008,
          27.14995815207078,
          26.681500234364158,
          26.157580961893668,
          28.146952366082623,
          26.05834616856486,
          25.635789612472827,
          25.76184043760553,
          25.933675771812293,
          26.307868090110944,
          25.918055450812883,
          27.282784652338115,
          23.85465928003491,
          23.87789977812078,
          22.26547484388744,
          23.76546541645148,
          23.457463750890767,
          22.503923318483274,
          21.66244709533744,
          21.810422248497446,
          21.852357172370272,
          21.950664464456867,
          22.707719389696692,
          22.433183698989136,
          21.3372254815366,
          22.130573782220576,
          21.988511360663594,
          21.64413335179741,
          20.047280999908697,
          20.049596073001027,
          20.044133243397788,
          19.979052572554618,
          21.070522589524384,
          19.028757618212495,
          18.69747383780938,
          18.652244966481486,
          18.14975220323724,
          18.560502312437755,
          19.812671420458035,
          18.206222635758337,
          17.520365747743224,
          18.42954432869775,
          17.703956006936643,
          18.189765043477017,
          17.910363069341496,
          16.774336162975594,
          16.4780510218448,
          17.49835280618987,
          16.6607908913747,
          16.642953296455026,
          16.325070384862876,
          16.122481046958104,
          16.27854706919728,
          16.00173029127646,
          15.926196146506868,
          15.833589703892098,
          16.395095676845383,
          15.453001634122332,
          15.78852629849158,
          14.746788326720125,
          15.665808102707096,
          15.286739510246573,
          14.702334264859887,
          14.824765492167039,
          14.318428011238282,
          14.630025187788007,
          14.084826663879168,
          14.996284514977615,
          14.528387124707184,
          14.358712134198878,
          13.93684084239758,
          13.474774633551917,
          13.76888138283795,
          13.93605269916475,
          13.660885218883159,
          13.023168267806252,
          12.65909198200698,
          13.480416457735256,
          12.895585832462405,
          12.231397742095034,
          13.204188351947485,
          12.195714544228187,
          12.037494862124982,
          12.650754946328574,
          12.377314379070862,
          12.597086593406045,
          12.371931344958945,
          12.59632745761367,
          12.841147679621868,
          11.723260537600702,
          12.477051760407264,
          12.429354723300428,
          11.981175558214797,
          11.825813457275494,
          11.436549277684591,
          11.80487980574517,
          10.883191961653633,
          11.837539448326954,
          11.807035513666932,
          11.26231028245885,
          11.969309963205363,
          11.715202216109061,
          12.202234806251292,
          11.65372720959847,
          11.881127763443725,
          12.503745231121554,
          11.716461542686464,
          11.92235380896347,
          12.00523993527705,
          11.821775646194798,
          12.573442955282962,
          11.628383729881818,
          11.679963726607804,
          11.134921993514082,
          11.66007653205976,
          10.78011135192077,
          12.165776991170278,
          11.707345662377227,
          11.670696988829674,
          11.144538650444387,
          11.82397005196849,
          12.059841788427276,
          11.688723347658469,
          11.355246005234562,
          10.636078675334852,
          11.38023757851748,
          11.632657876118383,
          11.550688351985569,
          11.756394008004174,
          11.396477498407856,
          11.728791683026149,
          11.469044447642927,
          11.86781904441237,
          11.597805109766531,
          11.43917326257487,
          11.802638623368019,
          11.698777909992385,
          11.827094973164346,
          11.870475578534391,
          11.87005215966493,
          12.357586386722746,
          12.150575433918767,
          12.054195887631138,
          12.436223876947453,
          12.227671335580336,
          11.80707492724711,
          11.749688653198504,
          12.046306906108516,
          12.016542681097748,
          12.072724056665756,
          11.92200638359825,
          11.727218385686184,
          12.444515852861656,
          12.286532376726504,
          11.951438349306944,
          12.115754592720059,
          12.355868410234924,
          12.117361359663956,
          12.483934893615285,
          12.61342792207539,
          12.472061643488248,
          12.547726256708758,
          12.662221982218844,
          12.660888179484461,
          12.303053892641577,
          11.941763930042953,
          12.690814208064266,
          13.223657903313892,
          12.456326240572462,
          12.950638077376697,
          13.069538528708394,
          12.522596018830695,
          12.795287077232304,
          12.96656764558987,
          12.350623393194592,
          13.418984424270386,
          12.435985093466897,
          13.542980590757702,
          13.5089679204342,
          13.0354055242311,
          12.80428416253053,
          13.197524790396994,
          13.648371938372511,
          13.515834204005998,
          13.7100352983484,
          13.528254512960789,
          12.977834570081134,
          13.175880183616881,
          13.646581998496012,
          13.45724134490334,
          13.432240075548386,
          14.072182468180298,
          12.979238748440538,
          13.891901710798448,
          14.110207566812708,
          14.19640236437115,
          14.128073070324879,
          14.104932146007448,
          14.465729091291607,
          14.120261124241418,
          14.07088712193693,
          13.668081012297398,
          13.896273189292053,
          12.967755842695434,
          14.06891668993022,
          15.0867061184696,
          14.255328561374538,
          14.13648730863912,
          14.255230433137452,
          15.217504057942858,
          14.649375310759977,
          14.428239562096598,
          14.541413388656824,
          14.314115952676906,
          14.876170954505755,
          14.316259299992765,
          14.262931778096652,
          14.969061440504325,
          14.747667329997812,
          14.484123201643161,
          15.070522114902612,
          14.384312865909171,
          15.010920107724177,
          14.577266481425063,
          14.628455295848175,
          15.406161305810109,
          15.166991110304483,
          14.991758595381091,
          14.523318891642118,
          15.798500433831514,
          15.084871308451797,
          15.380957531060139,
          14.44611071993745,
          15.863611846064574,
          16.375191247435147,
          15.030756385012003,
          16.298051807485322,
          15.464497563117954,
          15.908846546739868,
          15.484994245810354,
          16.0554900731488,
          15.8204058272154,
          16.304089716731397,
          15.391213068035295,
          16.588583945685063,
          16.11791984571886,
          15.708542188748096,
          15.764004152193625,
          15.949602784685373,
          16.079143805780888,
          16.39212108056663,
          15.948269843198856,
          16.365112453599146,
          15.935275600287637,
          16.394330454964255,
          16.09288320532093,
          15.883478725808137,
          16.54737686608818,
          16.827135166735047,
          16.857201591357178,
          17.05739203866323,
          16.4146170499516,
          17.033437039027316,
          16.65706224688693,
          16.52561274110069,
          16.985277774932577,
          17.229268095708225,
          17.35923865966572,
          16.575922899963675,
          18.001732652176567,
          17.023574074476738,
          17.68462161449999,
          17.11339046036036,
          16.52985702108597,
          17.58055913775219,
          18.020302944358885,
          17.701167687735474,
          17.80613900376609,
          17.584976328580954,
          17.575278713963858,
          17.57188323362607,
          19.537398071251673,
          17.18535147876997,
          18.166293453802513,
          17.840880375307307,
          18.289367853070935,
          17.593161332861143,
          19.067982820067147,
          17.7366444726466,
          18.377536793482967,
          18.089629778844397,
          17.967573167575026,
          17.89516697128089,
          17.712675973591285,
          19.096708690862272,
          18.789056042294238,
          19.281827441828767,
          17.96186800217884,
          18.46097952019507,
          19.563993413410603,
          19.12256329766553,
          19.599704048322636,
          20.40911097293995,
          20.586615625928165,
          18.798960789525207,
          20.88330400397397,
          20.898829047784115,
          18.782766076634864,
          20.28815533993896,
          19.221479734475405,
          20.0741192786348,
          21.12830838660139,
          20.609703767875516,
          21.240596123243158,
          21.328906638583273,
          22.45632799376824,
          22.11571163339103,
          21.24025877481222,
          21.272813645416015,
          22.159967223233238,
          22.580204925245337,
          22.33869093984815,
          24.042456866649143,
          22.865891156315378,
          23.472262892636238,
          22.644455985458144,
          25.06767593738179,
          24.32854697787651,
          25.26793622434061,
          25.696377683669542,
          25.151464740361103,
          25.74385901014512,
          25.0107444279142,
          27.188943525518795,
          26.13984143955472,
          26.3626326018324,
          27.573441870834326,
          27.462028790443426,
          28.443414462244366,
          29.571504206255295,
          28.51170193940686,
          30.40788167341081,
          28.866662203644573,
          29.62589141530213,
          31.167968645089474,
          31.077609899400034,
          31.628651313562884,
          32.25040810982428,
          33.42376754934886,
          34.27001941337059,
          36.33417491195573,
          34.3174684031961,
          36.952307920274144,
          36.97005776401664,
          36.8294823856657,
          38.34105527984059,
          39.00628060430898,
          39.65747536061114,
          39.04834429239533,
          42.37624617360096,
          41.924431666959485,
          41.03211793944901,
          43.7816712954415,
          41.63100927315219,
          43.500677573012084,
          42.88200678183944,
          43.41002232916646,
          45.66664457007818,
          48.0344624002467,
          49.89919992643415,
          49.27380457214197,
          48.65395900456249,
          50.52524843339212,
          52.47673794618923,
          51.63285656837756,
          56.230543464531536,
          54.34318687991125,
          52.39556666908065,
          56.92052018112032,
          53.9047997297174,
          57.493493813743626,
          59.349832785791314,
          61.16676524434431,
          59.02386612938807,
          62.22327899861384,
          61.55116027425645,
          63.863789584588524,
          64.6943018217764,
          65.7368149631301,
          67.97904248814073,
          69.3651970428193,
          70.7582635210496,
          72.45327165064678,
          70.82055110841975,
          71.05639072511394,
          75.60495235123459,
          75.93779666771518,
          77.7630507480283,
          79.17547099472043,
          81.3320539676281,
          81.90856298722485,
          83.30166553942324,
          84.68338280804414,
          83.26695732411467,
          84.35519372815813,
          86.89194826061112,
          93.33040215349632,
          89.68508080381497,
          93.36483942315192,
          93.43949739364483,
          94.66851299072874,
          97.35061770123717,
          98.65905591274242,
          101.3649532968772,
          102.78815627699227,
          101.74654766148323,
          102.61781959168508,
          106.18642349267773,
          112.0201452309336,
          110.32231354053567,
          112.562450497562,
          117.63221761667835,
          115.4678350039477,
          118.93580048338235,
          121.21656189497676,
          123.34083158891683,
          126.5298105649983,
          127.53108259114103,
          123.40687757014992,
          135.39652177323669,
          129.81929965520416,
          135.15693142530526,
          139.9093222520883,
          134.60409373673673,
          142.2569440766983,
          139.9178274379927,
          151.44472943132732,
          143.56947638255332,
          160.1526577048299,
          154.83046450187894,
          155.61094016734495,
          164.36737137418024,
          162.78240892874157,
          164.8511533054241,
          172.97481902199004,
          171.40338120180806,
          173.73415190789075,
          172.2740621368503,
          174.68989932186423,
          182.97912221095714,
          188.9399221566369,
          193.91028983558178,
          202.09263295842618,
          195.49068989371253,
          206.83787793675526,
          202.68922648542323,
          207.5807567187636,
          213.8750764444124,
          212.1792270056718,
          229.12891376213048,
          215.7533744637581,
          222.979970091236,
          226.74846886980674,
          229.94695396337787,
          230.8950696766823,
          245.54576751559028,
          245.220725205668,
          244.72918973907957,
          252.10821571579737,
          257.38324680066944,
          257.49345146886793,
          261.24322007023613,
          266.13596005554996,
          283.1959611384118,
          273.78494975469675,
          275.8723972437079,
          286.93305530896646,
          290.65279388514375,
          295.16602785700405,
          287.4445599715351,
          315.47005612310716,
          314.1718138714474,
          314.946072899398,
          321.50932455226626,
          323.72445070568375,
          340.82260076628666,
          336.986406382938,
          357.6670054622035,
          345.5685358622228,
          366.4238740109797,
          361.1185650402057,
          369.74987659346635,
          385.41001255424334,
          390.16044731645303,
          408.16827599163236,
          401.58263939609736,
          413.79542165290894,
          424.75340687738327,
          411.49195484047755,
          441.46656145828797,
          439.2285616173852,
          472.6422046415024,
          446.6492111238365,
          470.3799716656776,
          483.44110655801103,
          479.1580655746336,
          497.86515990318964,
          497.7040937258435,
          546.8054503412798,
          533.0999818093615,
          540.0647627508653,
          554.8742643187778,
          548.3574338676314,
          583.4654023242757,
          583.987072065271,
          643.9529574797352,
          601.5345152423519,
          625.8230573333766,
          637.2560556239262,
          632.2830055157459,
          674.5123228646422,
          661.7816803727247,
          723.283602172712,
          703.7583345474332,
          736.117116640113,
          759.1910012149824,
          732.1702697309897,
          799.5211183348372,
          817.9899303654844,
          864.0160257648221,
          846.4710388294059,
          856.8589950420902,
          914.9829687684612,
          884.5171733447467,
          983.1749670333288,
          947.0535256500165,
          1056.3050401054766,
          998.7591762384225,
          1041.712123695241,
          1096.9020243380705,
          1041.3358525250997,
          1163.876561078853,
          1176.310382125101,
          1297.632055188218,
          1219.4236421002315,
          1298.6210163919727,
          1363.0059456920017,
          1296.3582592710748,
          1468.562977200638,
          1458.2118911879622,
          1653.8997412339918,
          1539.839132987186,
          1625.0485224582565,
          1714.4743077800279,
          1626.3225173600201,
          1880.6747902214574,
          1888.7179560893137,
          2263.0901831635324,
          2000.8062382330888,
          2173.5818268110907,
          2407.4364059729405,
          2182.966587630368,
          2624.906708154306,
          2611.4359894768945,
          3435.153388601997,
          2887.5755804684363,
          3213.863808160123,
          3590.363900748902,
          3252.764441902761,
          4168.277933449409,
          4129.2697684356635,
          6262.765717617648,
          4743.570399006807,
          5592.930780285092,
          6768.351817377199,
          5754.2816947368365,
          9131.524041629595,
          8980.047683816607,
          32504.6504880496,
          12463.642142082226,
          19488.504102282426,
          47484.38611600998,
          21752.01871914679,
          66347.67446929564,
          73766.39236769517,
          11359.217811525203,
          23903.01301335618,
          14242.34234616542,
          10138.319970943945,
          13967.684264536703,
          7548.196330027486,
          7765.372771016484,
          4956.755315427226,
          6423.1805571329505,
          5480.857249187439,
          4815.5751577694755,
          5521.945727400782,
          4064.2349341230997,
          4215.303067762356,
          3198.5192265224878,
          3829.589654001952,
          3516.150855360423,
          3236.107851261044,
          3425.9386977466784,
          2953.6348804176337,
          2965.014419118956,
          2436.647886469953,
          2735.584785274106,
          2594.013180711222,
          2446.8076090310856,
          2636.493073275223,
          2265.9701934144523,
          2340.1314989007146,
          2022.538972299742,
          2190.3957633536475,
          2097.615450146863,
          2018.884308032077,
          2065.257051928408,
          1899.7846056741557,
          1903.0898990585392,
          1689.702047143497,
          1860.4905390155966,
          1795.813411391704,
          1703.6440621305396,
          1795.5365638645742,
          1630.2271698373634,
          1678.0307391792694,
          1502.471973650533,
          1605.3422839061336,
          1551.8070332122713,
          1514.5330355262186,
          1562.3960759855017,
          1460.1162995823208,
          1461.7563664170468,
          1367.6119407368806,
          1440.0775166822214,
          1375.0681371279657,
          1355.905039187034,
          1379.8330912680792,
          1323.8132255464607,
          1324.8303911570083,
          1232.954077116655,
          1300.5277285001011,
          1274.6363988548608,
          1229.5405657376677,
          1286.6610687981142,
          1218.4172668848719,
          1218.285824294007,
          1153.1721585573914,
          1199.9106732933374,
          1184.9423339410243
         ]
        }
       ],
       "layout": {
        "template": {
         "data": {
          "bar": [
           {
            "error_x": {
             "color": "#2a3f5f"
            },
            "error_y": {
             "color": "#2a3f5f"
            },
            "marker": {
             "line": {
              "color": "#E5ECF6",
              "width": 0.5
             }
            },
            "type": "bar"
           }
          ],
          "barpolar": [
           {
            "marker": {
             "line": {
              "color": "#E5ECF6",
              "width": 0.5
             }
            },
            "type": "barpolar"
           }
          ],
          "carpet": [
           {
            "aaxis": {
             "endlinecolor": "#2a3f5f",
             "gridcolor": "white",
             "linecolor": "white",
             "minorgridcolor": "white",
             "startlinecolor": "#2a3f5f"
            },
            "baxis": {
             "endlinecolor": "#2a3f5f",
             "gridcolor": "white",
             "linecolor": "white",
             "minorgridcolor": "white",
             "startlinecolor": "#2a3f5f"
            },
            "type": "carpet"
           }
          ],
          "choropleth": [
           {
            "colorbar": {
             "outlinewidth": 0,
             "ticks": ""
            },
            "type": "choropleth"
           }
          ],
          "contour": [
           {
            "colorbar": {
             "outlinewidth": 0,
             "ticks": ""
            },
            "colorscale": [
             [
              0,
              "#0d0887"
             ],
             [
              0.1111111111111111,
              "#46039f"
             ],
             [
              0.2222222222222222,
              "#7201a8"
             ],
             [
              0.3333333333333333,
              "#9c179e"
             ],
             [
              0.4444444444444444,
              "#bd3786"
             ],
             [
              0.5555555555555556,
              "#d8576b"
             ],
             [
              0.6666666666666666,
              "#ed7953"
             ],
             [
              0.7777777777777778,
              "#fb9f3a"
             ],
             [
              0.8888888888888888,
              "#fdca26"
             ],
             [
              1,
              "#f0f921"
             ]
            ],
            "type": "contour"
           }
          ],
          "contourcarpet": [
           {
            "colorbar": {
             "outlinewidth": 0,
             "ticks": ""
            },
            "type": "contourcarpet"
           }
          ],
          "heatmap": [
           {
            "colorbar": {
             "outlinewidth": 0,
             "ticks": ""
            },
            "colorscale": [
             [
              0,
              "#0d0887"
             ],
             [
              0.1111111111111111,
              "#46039f"
             ],
             [
              0.2222222222222222,
              "#7201a8"
             ],
             [
              0.3333333333333333,
              "#9c179e"
             ],
             [
              0.4444444444444444,
              "#bd3786"
             ],
             [
              0.5555555555555556,
              "#d8576b"
             ],
             [
              0.6666666666666666,
              "#ed7953"
             ],
             [
              0.7777777777777778,
              "#fb9f3a"
             ],
             [
              0.8888888888888888,
              "#fdca26"
             ],
             [
              1,
              "#f0f921"
             ]
            ],
            "type": "heatmap"
           }
          ],
          "heatmapgl": [
           {
            "colorbar": {
             "outlinewidth": 0,
             "ticks": ""
            },
            "colorscale": [
             [
              0,
              "#0d0887"
             ],
             [
              0.1111111111111111,
              "#46039f"
             ],
             [
              0.2222222222222222,
              "#7201a8"
             ],
             [
              0.3333333333333333,
              "#9c179e"
             ],
             [
              0.4444444444444444,
              "#bd3786"
             ],
             [
              0.5555555555555556,
              "#d8576b"
             ],
             [
              0.6666666666666666,
              "#ed7953"
             ],
             [
              0.7777777777777778,
              "#fb9f3a"
             ],
             [
              0.8888888888888888,
              "#fdca26"
             ],
             [
              1,
              "#f0f921"
             ]
            ],
            "type": "heatmapgl"
           }
          ],
          "histogram": [
           {
            "marker": {
             "colorbar": {
              "outlinewidth": 0,
              "ticks": ""
             }
            },
            "type": "histogram"
           }
          ],
          "histogram2d": [
           {
            "colorbar": {
             "outlinewidth": 0,
             "ticks": ""
            },
            "colorscale": [
             [
              0,
              "#0d0887"
             ],
             [
              0.1111111111111111,
              "#46039f"
             ],
             [
              0.2222222222222222,
              "#7201a8"
             ],
             [
              0.3333333333333333,
              "#9c179e"
             ],
             [
              0.4444444444444444,
              "#bd3786"
             ],
             [
              0.5555555555555556,
              "#d8576b"
             ],
             [
              0.6666666666666666,
              "#ed7953"
             ],
             [
              0.7777777777777778,
              "#fb9f3a"
             ],
             [
              0.8888888888888888,
              "#fdca26"
             ],
             [
              1,
              "#f0f921"
             ]
            ],
            "type": "histogram2d"
           }
          ],
          "histogram2dcontour": [
           {
            "colorbar": {
             "outlinewidth": 0,
             "ticks": ""
            },
            "colorscale": [
             [
              0,
              "#0d0887"
             ],
             [
              0.1111111111111111,
              "#46039f"
             ],
             [
              0.2222222222222222,
              "#7201a8"
             ],
             [
              0.3333333333333333,
              "#9c179e"
             ],
             [
              0.4444444444444444,
              "#bd3786"
             ],
             [
              0.5555555555555556,
              "#d8576b"
             ],
             [
              0.6666666666666666,
              "#ed7953"
             ],
             [
              0.7777777777777778,
              "#fb9f3a"
             ],
             [
              0.8888888888888888,
              "#fdca26"
             ],
             [
              1,
              "#f0f921"
             ]
            ],
            "type": "histogram2dcontour"
           }
          ],
          "mesh3d": [
           {
            "colorbar": {
             "outlinewidth": 0,
             "ticks": ""
            },
            "type": "mesh3d"
           }
          ],
          "parcoords": [
           {
            "line": {
             "colorbar": {
              "outlinewidth": 0,
              "ticks": ""
             }
            },
            "type": "parcoords"
           }
          ],
          "pie": [
           {
            "automargin": true,
            "type": "pie"
           }
          ],
          "scatter": [
           {
            "marker": {
             "colorbar": {
              "outlinewidth": 0,
              "ticks": ""
             }
            },
            "type": "scatter"
           }
          ],
          "scatter3d": [
           {
            "line": {
             "colorbar": {
              "outlinewidth": 0,
              "ticks": ""
             }
            },
            "marker": {
             "colorbar": {
              "outlinewidth": 0,
              "ticks": ""
             }
            },
            "type": "scatter3d"
           }
          ],
          "scattercarpet": [
           {
            "marker": {
             "colorbar": {
              "outlinewidth": 0,
              "ticks": ""
             }
            },
            "type": "scattercarpet"
           }
          ],
          "scattergeo": [
           {
            "marker": {
             "colorbar": {
              "outlinewidth": 0,
              "ticks": ""
             }
            },
            "type": "scattergeo"
           }
          ],
          "scattergl": [
           {
            "marker": {
             "colorbar": {
              "outlinewidth": 0,
              "ticks": ""
             }
            },
            "type": "scattergl"
           }
          ],
          "scattermapbox": [
           {
            "marker": {
             "colorbar": {
              "outlinewidth": 0,
              "ticks": ""
             }
            },
            "type": "scattermapbox"
           }
          ],
          "scatterpolar": [
           {
            "marker": {
             "colorbar": {
              "outlinewidth": 0,
              "ticks": ""
             }
            },
            "type": "scatterpolar"
           }
          ],
          "scatterpolargl": [
           {
            "marker": {
             "colorbar": {
              "outlinewidth": 0,
              "ticks": ""
             }
            },
            "type": "scatterpolargl"
           }
          ],
          "scatterternary": [
           {
            "marker": {
             "colorbar": {
              "outlinewidth": 0,
              "ticks": ""
             }
            },
            "type": "scatterternary"
           }
          ],
          "surface": [
           {
            "colorbar": {
             "outlinewidth": 0,
             "ticks": ""
            },
            "colorscale": [
             [
              0,
              "#0d0887"
             ],
             [
              0.1111111111111111,
              "#46039f"
             ],
             [
              0.2222222222222222,
              "#7201a8"
             ],
             [
              0.3333333333333333,
              "#9c179e"
             ],
             [
              0.4444444444444444,
              "#bd3786"
             ],
             [
              0.5555555555555556,
              "#d8576b"
             ],
             [
              0.6666666666666666,
              "#ed7953"
             ],
             [
              0.7777777777777778,
              "#fb9f3a"
             ],
             [
              0.8888888888888888,
              "#fdca26"
             ],
             [
              1,
              "#f0f921"
             ]
            ],
            "type": "surface"
           }
          ],
          "table": [
           {
            "cells": {
             "fill": {
              "color": "#EBF0F8"
             },
             "line": {
              "color": "white"
             }
            },
            "header": {
             "fill": {
              "color": "#C8D4E3"
             },
             "line": {
              "color": "white"
             }
            },
            "type": "table"
           }
          ]
         },
         "layout": {
          "annotationdefaults": {
           "arrowcolor": "#2a3f5f",
           "arrowhead": 0,
           "arrowwidth": 1
          },
          "autotypenumbers": "strict",
          "coloraxis": {
           "colorbar": {
            "outlinewidth": 0,
            "ticks": ""
           }
          },
          "colorscale": {
           "diverging": [
            [
             0,
             "#8e0152"
            ],
            [
             0.1,
             "#c51b7d"
            ],
            [
             0.2,
             "#de77ae"
            ],
            [
             0.3,
             "#f1b6da"
            ],
            [
             0.4,
             "#fde0ef"
            ],
            [
             0.5,
             "#f7f7f7"
            ],
            [
             0.6,
             "#e6f5d0"
            ],
            [
             0.7,
             "#b8e186"
            ],
            [
             0.8,
             "#7fbc41"
            ],
            [
             0.9,
             "#4d9221"
            ],
            [
             1,
             "#276419"
            ]
           ],
           "sequential": [
            [
             0,
             "#0d0887"
            ],
            [
             0.1111111111111111,
             "#46039f"
            ],
            [
             0.2222222222222222,
             "#7201a8"
            ],
            [
             0.3333333333333333,
             "#9c179e"
            ],
            [
             0.4444444444444444,
             "#bd3786"
            ],
            [
             0.5555555555555556,
             "#d8576b"
            ],
            [
             0.6666666666666666,
             "#ed7953"
            ],
            [
             0.7777777777777778,
             "#fb9f3a"
            ],
            [
             0.8888888888888888,
             "#fdca26"
            ],
            [
             1,
             "#f0f921"
            ]
           ],
           "sequentialminus": [
            [
             0,
             "#0d0887"
            ],
            [
             0.1111111111111111,
             "#46039f"
            ],
            [
             0.2222222222222222,
             "#7201a8"
            ],
            [
             0.3333333333333333,
             "#9c179e"
            ],
            [
             0.4444444444444444,
             "#bd3786"
            ],
            [
             0.5555555555555556,
             "#d8576b"
            ],
            [
             0.6666666666666666,
             "#ed7953"
            ],
            [
             0.7777777777777778,
             "#fb9f3a"
            ],
            [
             0.8888888888888888,
             "#fdca26"
            ],
            [
             1,
             "#f0f921"
            ]
           ]
          },
          "colorway": [
           "#636efa",
           "#EF553B",
           "#00cc96",
           "#ab63fa",
           "#FFA15A",
           "#19d3f3",
           "#FF6692",
           "#B6E880",
           "#FF97FF",
           "#FECB52"
          ],
          "font": {
           "color": "#2a3f5f"
          },
          "geo": {
           "bgcolor": "white",
           "lakecolor": "white",
           "landcolor": "#E5ECF6",
           "showlakes": true,
           "showland": true,
           "subunitcolor": "white"
          },
          "hoverlabel": {
           "align": "left"
          },
          "hovermode": "closest",
          "mapbox": {
           "style": "light"
          },
          "paper_bgcolor": "white",
          "plot_bgcolor": "#E5ECF6",
          "polar": {
           "angularaxis": {
            "gridcolor": "white",
            "linecolor": "white",
            "ticks": ""
           },
           "bgcolor": "#E5ECF6",
           "radialaxis": {
            "gridcolor": "white",
            "linecolor": "white",
            "ticks": ""
           }
          },
          "scene": {
           "xaxis": {
            "backgroundcolor": "#E5ECF6",
            "gridcolor": "white",
            "gridwidth": 2,
            "linecolor": "white",
            "showbackground": true,
            "ticks": "",
            "zerolinecolor": "white"
           },
           "yaxis": {
            "backgroundcolor": "#E5ECF6",
            "gridcolor": "white",
            "gridwidth": 2,
            "linecolor": "white",
            "showbackground": true,
            "ticks": "",
            "zerolinecolor": "white"
           },
           "zaxis": {
            "backgroundcolor": "#E5ECF6",
            "gridcolor": "white",
            "gridwidth": 2,
            "linecolor": "white",
            "showbackground": true,
            "ticks": "",
            "zerolinecolor": "white"
           }
          },
          "shapedefaults": {
           "line": {
            "color": "#2a3f5f"
           }
          },
          "ternary": {
           "aaxis": {
            "gridcolor": "white",
            "linecolor": "white",
            "ticks": ""
           },
           "baxis": {
            "gridcolor": "white",
            "linecolor": "white",
            "ticks": ""
           },
           "bgcolor": "#E5ECF6",
           "caxis": {
            "gridcolor": "white",
            "linecolor": "white",
            "ticks": ""
           }
          },
          "title": {
           "x": 0.05
          },
          "xaxis": {
           "automargin": true,
           "gridcolor": "white",
           "linecolor": "white",
           "ticks": "",
           "title": {
            "standoff": 15
           },
           "zerolinecolor": "white",
           "zerolinewidth": 2
          },
          "yaxis": {
           "automargin": true,
           "gridcolor": "white",
           "linecolor": "white",
           "ticks": "",
           "title": {
            "standoff": 15
           },
           "zerolinecolor": "white",
           "zerolinewidth": 2
          }
         }
        }
       }
      },
      "text/html": [
       "<div>                            <div id=\"85884493-3c02-4c57-97b9-756e686b4df7\" class=\"plotly-graph-div\" style=\"height:525px; width:100%;\"></div>            <script type=\"text/javascript\">                require([\"plotly\"], function(Plotly) {                    window.PLOTLYENV=window.PLOTLYENV || {};                                    if (document.getElementById(\"85884493-3c02-4c57-97b9-756e686b4df7\")) {                    Plotly.newPlot(                        \"85884493-3c02-4c57-97b9-756e686b4df7\",                        [{\"type\": \"bar\", \"y\": [40.170740981802965, 38.044378307814625, 36.35128610713272, 35.97536281393335, 39.64611165450928, 35.65222235692262, 37.77794266920553, 34.19871312920227, 35.345957765916296, 36.38988667880016, 34.00659807120622, 35.77436582461753, 37.39646008941152, 36.613531957979234, 35.157545054361236, 34.81947003566693, 34.94081251758395, 34.573781647125564, 36.23431026032492, 32.95901640854238, 34.95687876216994, 35.12060600598163, 34.7405987472188, 35.01797635117744, 35.35453629966409, 36.00645145506925, 32.744027694358266, 35.901201140099296, 34.235548926344904, 32.94231737192413, 32.957475790265306, 30.919260736115895, 33.93163410536439, 33.47244416185505, 36.18174526113403, 33.43053705592818, 31.888665420238503, 33.633112545633296, 32.53363598707874, 33.05925878054386, 33.30609529207415, 31.58967751551757, 32.190000771437724, 32.89800447893986, 32.16000964191827, 32.541490844986264, 33.168855140236495, 32.90916663783818, 32.07999191803864, 29.98475645935818, 31.40923090959688, 31.195330265052224, 30.36718624679552, 31.519083867467817, 31.86125771868589, 31.363037464916577, 30.204691636496207, 30.966348195456035, 31.475519915070816, 30.67161090839612, 31.392688805022207, 30.934201466630267, 32.03152953662396, 29.246313513072614, 28.91594356826045, 30.24121351336257, 30.589510296384947, 28.812094432900974, 28.60192327685783, 30.375390269906156, 29.036437056124235, 29.326873764360666, 28.304281658149872, 28.14139826178572, 27.572569546729973, 29.403971625942376, 29.115069217244095, 26.99100638924184, 29.068688682496475, 28.05763799603008, 27.14995815207078, 26.681500234364158, 26.157580961893668, 28.146952366082623, 26.05834616856486, 25.635789612472827, 25.76184043760553, 25.933675771812293, 26.307868090110944, 25.918055450812883, 27.282784652338115, 23.85465928003491, 23.87789977812078, 22.26547484388744, 23.76546541645148, 23.457463750890767, 22.503923318483274, 21.66244709533744, 21.810422248497446, 21.852357172370272, 21.950664464456867, 22.707719389696692, 22.433183698989136, 21.3372254815366, 22.130573782220576, 21.988511360663594, 21.64413335179741, 20.047280999908697, 20.049596073001027, 20.044133243397788, 19.979052572554618, 21.070522589524384, 19.028757618212495, 18.69747383780938, 18.652244966481486, 18.14975220323724, 18.560502312437755, 19.812671420458035, 18.206222635758337, 17.520365747743224, 18.42954432869775, 17.703956006936643, 18.189765043477017, 17.910363069341496, 16.774336162975594, 16.4780510218448, 17.49835280618987, 16.6607908913747, 16.642953296455026, 16.325070384862876, 16.122481046958104, 16.27854706919728, 16.00173029127646, 15.926196146506868, 15.833589703892098, 16.395095676845383, 15.453001634122332, 15.78852629849158, 14.746788326720125, 15.665808102707096, 15.286739510246573, 14.702334264859887, 14.824765492167039, 14.318428011238282, 14.630025187788007, 14.084826663879168, 14.996284514977615, 14.528387124707184, 14.358712134198878, 13.93684084239758, 13.474774633551917, 13.76888138283795, 13.93605269916475, 13.660885218883159, 13.023168267806252, 12.65909198200698, 13.480416457735256, 12.895585832462405, 12.231397742095034, 13.204188351947485, 12.195714544228187, 12.037494862124982, 12.650754946328574, 12.377314379070862, 12.597086593406045, 12.371931344958945, 12.59632745761367, 12.841147679621868, 11.723260537600702, 12.477051760407264, 12.429354723300428, 11.981175558214797, 11.825813457275494, 11.436549277684591, 11.80487980574517, 10.883191961653633, 11.837539448326954, 11.807035513666932, 11.26231028245885, 11.969309963205363, 11.715202216109061, 12.202234806251292, 11.65372720959847, 11.881127763443725, 12.503745231121554, 11.716461542686464, 11.92235380896347, 12.00523993527705, 11.821775646194798, 12.573442955282962, 11.628383729881818, 11.679963726607804, 11.134921993514082, 11.66007653205976, 10.78011135192077, 12.165776991170278, 11.707345662377227, 11.670696988829674, 11.144538650444387, 11.82397005196849, 12.059841788427276, 11.688723347658469, 11.355246005234562, 10.636078675334852, 11.38023757851748, 11.632657876118383, 11.550688351985569, 11.756394008004174, 11.396477498407856, 11.728791683026149, 11.469044447642927, 11.86781904441237, 11.597805109766531, 11.43917326257487, 11.802638623368019, 11.698777909992385, 11.827094973164346, 11.870475578534391, 11.87005215966493, 12.357586386722746, 12.150575433918767, 12.054195887631138, 12.436223876947453, 12.227671335580336, 11.80707492724711, 11.749688653198504, 12.046306906108516, 12.016542681097748, 12.072724056665756, 11.92200638359825, 11.727218385686184, 12.444515852861656, 12.286532376726504, 11.951438349306944, 12.115754592720059, 12.355868410234924, 12.117361359663956, 12.483934893615285, 12.61342792207539, 12.472061643488248, 12.547726256708758, 12.662221982218844, 12.660888179484461, 12.303053892641577, 11.941763930042953, 12.690814208064266, 13.223657903313892, 12.456326240572462, 12.950638077376697, 13.069538528708394, 12.522596018830695, 12.795287077232304, 12.96656764558987, 12.350623393194592, 13.418984424270386, 12.435985093466897, 13.542980590757702, 13.5089679204342, 13.0354055242311, 12.80428416253053, 13.197524790396994, 13.648371938372511, 13.515834204005998, 13.7100352983484, 13.528254512960789, 12.977834570081134, 13.175880183616881, 13.646581998496012, 13.45724134490334, 13.432240075548386, 14.072182468180298, 12.979238748440538, 13.891901710798448, 14.110207566812708, 14.19640236437115, 14.128073070324879, 14.104932146007448, 14.465729091291607, 14.120261124241418, 14.07088712193693, 13.668081012297398, 13.896273189292053, 12.967755842695434, 14.06891668993022, 15.0867061184696, 14.255328561374538, 14.13648730863912, 14.255230433137452, 15.217504057942858, 14.649375310759977, 14.428239562096598, 14.541413388656824, 14.314115952676906, 14.876170954505755, 14.316259299992765, 14.262931778096652, 14.969061440504325, 14.747667329997812, 14.484123201643161, 15.070522114902612, 14.384312865909171, 15.010920107724177, 14.577266481425063, 14.628455295848175, 15.406161305810109, 15.166991110304483, 14.991758595381091, 14.523318891642118, 15.798500433831514, 15.084871308451797, 15.380957531060139, 14.44611071993745, 15.863611846064574, 16.375191247435147, 15.030756385012003, 16.298051807485322, 15.464497563117954, 15.908846546739868, 15.484994245810354, 16.0554900731488, 15.8204058272154, 16.304089716731397, 15.391213068035295, 16.588583945685063, 16.11791984571886, 15.708542188748096, 15.764004152193625, 15.949602784685373, 16.079143805780888, 16.39212108056663, 15.948269843198856, 16.365112453599146, 15.935275600287637, 16.394330454964255, 16.09288320532093, 15.883478725808137, 16.54737686608818, 16.827135166735047, 16.857201591357178, 17.05739203866323, 16.4146170499516, 17.033437039027316, 16.65706224688693, 16.52561274110069, 16.985277774932577, 17.229268095708225, 17.35923865966572, 16.575922899963675, 18.001732652176567, 17.023574074476738, 17.68462161449999, 17.11339046036036, 16.52985702108597, 17.58055913775219, 18.020302944358885, 17.701167687735474, 17.80613900376609, 17.584976328580954, 17.575278713963858, 17.57188323362607, 19.537398071251673, 17.18535147876997, 18.166293453802513, 17.840880375307307, 18.289367853070935, 17.593161332861143, 19.067982820067147, 17.7366444726466, 18.377536793482967, 18.089629778844397, 17.967573167575026, 17.89516697128089, 17.712675973591285, 19.096708690862272, 18.789056042294238, 19.281827441828767, 17.96186800217884, 18.46097952019507, 19.563993413410603, 19.12256329766553, 19.599704048322636, 20.40911097293995, 20.586615625928165, 18.798960789525207, 20.88330400397397, 20.898829047784115, 18.782766076634864, 20.28815533993896, 19.221479734475405, 20.0741192786348, 21.12830838660139, 20.609703767875516, 21.240596123243158, 21.328906638583273, 22.45632799376824, 22.11571163339103, 21.24025877481222, 21.272813645416015, 22.159967223233238, 22.580204925245337, 22.33869093984815, 24.042456866649143, 22.865891156315378, 23.472262892636238, 22.644455985458144, 25.06767593738179, 24.32854697787651, 25.26793622434061, 25.696377683669542, 25.151464740361103, 25.74385901014512, 25.0107444279142, 27.188943525518795, 26.13984143955472, 26.3626326018324, 27.573441870834326, 27.462028790443426, 28.443414462244366, 29.571504206255295, 28.51170193940686, 30.40788167341081, 28.866662203644573, 29.62589141530213, 31.167968645089474, 31.077609899400034, 31.628651313562884, 32.25040810982428, 33.42376754934886, 34.27001941337059, 36.33417491195573, 34.3174684031961, 36.952307920274144, 36.97005776401664, 36.8294823856657, 38.34105527984059, 39.00628060430898, 39.65747536061114, 39.04834429239533, 42.37624617360096, 41.924431666959485, 41.03211793944901, 43.7816712954415, 41.63100927315219, 43.500677573012084, 42.88200678183944, 43.41002232916646, 45.66664457007818, 48.0344624002467, 49.89919992643415, 49.27380457214197, 48.65395900456249, 50.52524843339212, 52.47673794618923, 51.63285656837756, 56.230543464531536, 54.34318687991125, 52.39556666908065, 56.92052018112032, 53.9047997297174, 57.493493813743626, 59.349832785791314, 61.16676524434431, 59.02386612938807, 62.22327899861384, 61.55116027425645, 63.863789584588524, 64.6943018217764, 65.7368149631301, 67.97904248814073, 69.3651970428193, 70.7582635210496, 72.45327165064678, 70.82055110841975, 71.05639072511394, 75.60495235123459, 75.93779666771518, 77.7630507480283, 79.17547099472043, 81.3320539676281, 81.90856298722485, 83.30166553942324, 84.68338280804414, 83.26695732411467, 84.35519372815813, 86.89194826061112, 93.33040215349632, 89.68508080381497, 93.36483942315192, 93.43949739364483, 94.66851299072874, 97.35061770123717, 98.65905591274242, 101.3649532968772, 102.78815627699227, 101.74654766148323, 102.61781959168508, 106.18642349267773, 112.0201452309336, 110.32231354053567, 112.562450497562, 117.63221761667835, 115.4678350039477, 118.93580048338235, 121.21656189497676, 123.34083158891683, 126.5298105649983, 127.53108259114103, 123.40687757014992, 135.39652177323669, 129.81929965520416, 135.15693142530526, 139.9093222520883, 134.60409373673673, 142.2569440766983, 139.9178274379927, 151.44472943132732, 143.56947638255332, 160.1526577048299, 154.83046450187894, 155.61094016734495, 164.36737137418024, 162.78240892874157, 164.8511533054241, 172.97481902199004, 171.40338120180806, 173.73415190789075, 172.2740621368503, 174.68989932186423, 182.97912221095714, 188.9399221566369, 193.91028983558178, 202.09263295842618, 195.49068989371253, 206.83787793675526, 202.68922648542323, 207.5807567187636, 213.8750764444124, 212.1792270056718, 229.12891376213048, 215.7533744637581, 222.979970091236, 226.74846886980674, 229.94695396337787, 230.8950696766823, 245.54576751559028, 245.220725205668, 244.72918973907957, 252.10821571579737, 257.38324680066944, 257.49345146886793, 261.24322007023613, 266.13596005554996, 283.1959611384118, 273.78494975469675, 275.8723972437079, 286.93305530896646, 290.65279388514375, 295.16602785700405, 287.4445599715351, 315.47005612310716, 314.1718138714474, 314.946072899398, 321.50932455226626, 323.72445070568375, 340.82260076628666, 336.986406382938, 357.6670054622035, 345.5685358622228, 366.4238740109797, 361.1185650402057, 369.74987659346635, 385.41001255424334, 390.16044731645303, 408.16827599163236, 401.58263939609736, 413.79542165290894, 424.75340687738327, 411.49195484047755, 441.46656145828797, 439.2285616173852, 472.6422046415024, 446.6492111238365, 470.3799716656776, 483.44110655801103, 479.1580655746336, 497.86515990318964, 497.7040937258435, 546.8054503412798, 533.0999818093615, 540.0647627508653, 554.8742643187778, 548.3574338676314, 583.4654023242757, 583.987072065271, 643.9529574797352, 601.5345152423519, 625.8230573333766, 637.2560556239262, 632.2830055157459, 674.5123228646422, 661.7816803727247, 723.283602172712, 703.7583345474332, 736.117116640113, 759.1910012149824, 732.1702697309897, 799.5211183348372, 817.9899303654844, 864.0160257648221, 846.4710388294059, 856.8589950420902, 914.9829687684612, 884.5171733447467, 983.1749670333288, 947.0535256500165, 1056.3050401054766, 998.7591762384225, 1041.712123695241, 1096.9020243380705, 1041.3358525250997, 1163.876561078853, 1176.310382125101, 1297.632055188218, 1219.4236421002315, 1298.6210163919727, 1363.0059456920017, 1296.3582592710748, 1468.562977200638, 1458.2118911879622, 1653.8997412339918, 1539.839132987186, 1625.0485224582565, 1714.4743077800279, 1626.3225173600201, 1880.6747902214574, 1888.7179560893137, 2263.0901831635324, 2000.8062382330888, 2173.5818268110907, 2407.4364059729405, 2182.966587630368, 2624.906708154306, 2611.4359894768945, 3435.153388601997, 2887.5755804684363, 3213.863808160123, 3590.363900748902, 3252.764441902761, 4168.277933449409, 4129.2697684356635, 6262.765717617648, 4743.570399006807, 5592.930780285092, 6768.351817377199, 5754.2816947368365, 9131.524041629595, 8980.047683816607, 32504.6504880496, 12463.642142082226, 19488.504102282426, 47484.38611600998, 21752.01871914679, 66347.67446929564, 73766.39236769517, 11359.217811525203, 23903.01301335618, 14242.34234616542, 10138.319970943945, 13967.684264536703, 7548.196330027486, 7765.372771016484, 4956.755315427226, 6423.1805571329505, 5480.857249187439, 4815.5751577694755, 5521.945727400782, 4064.2349341230997, 4215.303067762356, 3198.5192265224878, 3829.589654001952, 3516.150855360423, 3236.107851261044, 3425.9386977466784, 2953.6348804176337, 2965.014419118956, 2436.647886469953, 2735.584785274106, 2594.013180711222, 2446.8076090310856, 2636.493073275223, 2265.9701934144523, 2340.1314989007146, 2022.538972299742, 2190.3957633536475, 2097.615450146863, 2018.884308032077, 2065.257051928408, 1899.7846056741557, 1903.0898990585392, 1689.702047143497, 1860.4905390155966, 1795.813411391704, 1703.6440621305396, 1795.5365638645742, 1630.2271698373634, 1678.0307391792694, 1502.471973650533, 1605.3422839061336, 1551.8070332122713, 1514.5330355262186, 1562.3960759855017, 1460.1162995823208, 1461.7563664170468, 1367.6119407368806, 1440.0775166822214, 1375.0681371279657, 1355.905039187034, 1379.8330912680792, 1323.8132255464607, 1324.8303911570083, 1232.954077116655, 1300.5277285001011, 1274.6363988548608, 1229.5405657376677, 1286.6610687981142, 1218.4172668848719, 1218.285824294007, 1153.1721585573914, 1199.9106732933374, 1184.9423339410243]}],                        {\"template\": {\"data\": {\"bar\": [{\"error_x\": {\"color\": \"#2a3f5f\"}, \"error_y\": {\"color\": \"#2a3f5f\"}, \"marker\": {\"line\": {\"color\": \"#E5ECF6\", \"width\": 0.5}}, \"type\": \"bar\"}], \"barpolar\": [{\"marker\": {\"line\": {\"color\": \"#E5ECF6\", \"width\": 0.5}}, \"type\": \"barpolar\"}], \"carpet\": [{\"aaxis\": {\"endlinecolor\": \"#2a3f5f\", \"gridcolor\": \"white\", \"linecolor\": \"white\", \"minorgridcolor\": \"white\", \"startlinecolor\": \"#2a3f5f\"}, \"baxis\": {\"endlinecolor\": \"#2a3f5f\", \"gridcolor\": \"white\", \"linecolor\": \"white\", \"minorgridcolor\": \"white\", \"startlinecolor\": \"#2a3f5f\"}, \"type\": \"carpet\"}], \"choropleth\": [{\"colorbar\": {\"outlinewidth\": 0, \"ticks\": \"\"}, \"type\": \"choropleth\"}], \"contour\": [{\"colorbar\": {\"outlinewidth\": 0, \"ticks\": \"\"}, \"colorscale\": [[0.0, \"#0d0887\"], [0.1111111111111111, \"#46039f\"], [0.2222222222222222, \"#7201a8\"], [0.3333333333333333, \"#9c179e\"], [0.4444444444444444, \"#bd3786\"], [0.5555555555555556, \"#d8576b\"], [0.6666666666666666, \"#ed7953\"], [0.7777777777777778, \"#fb9f3a\"], [0.8888888888888888, \"#fdca26\"], [1.0, \"#f0f921\"]], \"type\": \"contour\"}], \"contourcarpet\": [{\"colorbar\": {\"outlinewidth\": 0, \"ticks\": \"\"}, \"type\": \"contourcarpet\"}], \"heatmap\": [{\"colorbar\": {\"outlinewidth\": 0, \"ticks\": \"\"}, \"colorscale\": [[0.0, \"#0d0887\"], [0.1111111111111111, \"#46039f\"], [0.2222222222222222, \"#7201a8\"], [0.3333333333333333, \"#9c179e\"], [0.4444444444444444, \"#bd3786\"], [0.5555555555555556, \"#d8576b\"], [0.6666666666666666, \"#ed7953\"], [0.7777777777777778, \"#fb9f3a\"], [0.8888888888888888, \"#fdca26\"], [1.0, \"#f0f921\"]], \"type\": \"heatmap\"}], \"heatmapgl\": [{\"colorbar\": {\"outlinewidth\": 0, \"ticks\": \"\"}, \"colorscale\": [[0.0, \"#0d0887\"], [0.1111111111111111, \"#46039f\"], [0.2222222222222222, \"#7201a8\"], [0.3333333333333333, \"#9c179e\"], [0.4444444444444444, \"#bd3786\"], [0.5555555555555556, \"#d8576b\"], [0.6666666666666666, \"#ed7953\"], [0.7777777777777778, \"#fb9f3a\"], [0.8888888888888888, \"#fdca26\"], [1.0, \"#f0f921\"]], \"type\": \"heatmapgl\"}], \"histogram\": [{\"marker\": {\"colorbar\": {\"outlinewidth\": 0, \"ticks\": \"\"}}, \"type\": \"histogram\"}], \"histogram2d\": [{\"colorbar\": {\"outlinewidth\": 0, \"ticks\": \"\"}, \"colorscale\": [[0.0, \"#0d0887\"], [0.1111111111111111, \"#46039f\"], [0.2222222222222222, \"#7201a8\"], [0.3333333333333333, \"#9c179e\"], [0.4444444444444444, \"#bd3786\"], [0.5555555555555556, \"#d8576b\"], [0.6666666666666666, \"#ed7953\"], [0.7777777777777778, \"#fb9f3a\"], [0.8888888888888888, \"#fdca26\"], [1.0, \"#f0f921\"]], \"type\": \"histogram2d\"}], \"histogram2dcontour\": [{\"colorbar\": {\"outlinewidth\": 0, \"ticks\": \"\"}, \"colorscale\": [[0.0, \"#0d0887\"], [0.1111111111111111, \"#46039f\"], [0.2222222222222222, \"#7201a8\"], [0.3333333333333333, \"#9c179e\"], [0.4444444444444444, \"#bd3786\"], [0.5555555555555556, \"#d8576b\"], [0.6666666666666666, \"#ed7953\"], [0.7777777777777778, \"#fb9f3a\"], [0.8888888888888888, \"#fdca26\"], [1.0, \"#f0f921\"]], \"type\": \"histogram2dcontour\"}], \"mesh3d\": [{\"colorbar\": {\"outlinewidth\": 0, \"ticks\": \"\"}, \"type\": \"mesh3d\"}], \"parcoords\": [{\"line\": {\"colorbar\": {\"outlinewidth\": 0, \"ticks\": \"\"}}, \"type\": \"parcoords\"}], \"pie\": [{\"automargin\": true, \"type\": \"pie\"}], \"scatter\": [{\"marker\": {\"colorbar\": {\"outlinewidth\": 0, \"ticks\": \"\"}}, \"type\": \"scatter\"}], \"scatter3d\": [{\"line\": {\"colorbar\": {\"outlinewidth\": 0, \"ticks\": \"\"}}, \"marker\": {\"colorbar\": {\"outlinewidth\": 0, \"ticks\": \"\"}}, \"type\": \"scatter3d\"}], \"scattercarpet\": [{\"marker\": {\"colorbar\": {\"outlinewidth\": 0, \"ticks\": \"\"}}, \"type\": \"scattercarpet\"}], \"scattergeo\": [{\"marker\": {\"colorbar\": {\"outlinewidth\": 0, \"ticks\": \"\"}}, \"type\": \"scattergeo\"}], \"scattergl\": [{\"marker\": {\"colorbar\": {\"outlinewidth\": 0, \"ticks\": \"\"}}, \"type\": \"scattergl\"}], \"scattermapbox\": [{\"marker\": {\"colorbar\": {\"outlinewidth\": 0, \"ticks\": \"\"}}, \"type\": \"scattermapbox\"}], \"scatterpolar\": [{\"marker\": {\"colorbar\": {\"outlinewidth\": 0, \"ticks\": \"\"}}, \"type\": \"scatterpolar\"}], \"scatterpolargl\": [{\"marker\": {\"colorbar\": {\"outlinewidth\": 0, \"ticks\": \"\"}}, \"type\": \"scatterpolargl\"}], \"scatterternary\": [{\"marker\": {\"colorbar\": {\"outlinewidth\": 0, \"ticks\": \"\"}}, \"type\": \"scatterternary\"}], \"surface\": [{\"colorbar\": {\"outlinewidth\": 0, \"ticks\": \"\"}, \"colorscale\": [[0.0, \"#0d0887\"], [0.1111111111111111, \"#46039f\"], [0.2222222222222222, \"#7201a8\"], [0.3333333333333333, \"#9c179e\"], [0.4444444444444444, \"#bd3786\"], [0.5555555555555556, \"#d8576b\"], [0.6666666666666666, \"#ed7953\"], [0.7777777777777778, \"#fb9f3a\"], [0.8888888888888888, \"#fdca26\"], [1.0, \"#f0f921\"]], \"type\": \"surface\"}], \"table\": [{\"cells\": {\"fill\": {\"color\": \"#EBF0F8\"}, \"line\": {\"color\": \"white\"}}, \"header\": {\"fill\": {\"color\": \"#C8D4E3\"}, \"line\": {\"color\": \"white\"}}, \"type\": \"table\"}]}, \"layout\": {\"annotationdefaults\": {\"arrowcolor\": \"#2a3f5f\", \"arrowhead\": 0, \"arrowwidth\": 1}, \"autotypenumbers\": \"strict\", \"coloraxis\": {\"colorbar\": {\"outlinewidth\": 0, \"ticks\": \"\"}}, \"colorscale\": {\"diverging\": [[0, \"#8e0152\"], [0.1, \"#c51b7d\"], [0.2, \"#de77ae\"], [0.3, \"#f1b6da\"], [0.4, \"#fde0ef\"], [0.5, \"#f7f7f7\"], [0.6, \"#e6f5d0\"], [0.7, \"#b8e186\"], [0.8, \"#7fbc41\"], [0.9, \"#4d9221\"], [1, \"#276419\"]], \"sequential\": [[0.0, \"#0d0887\"], [0.1111111111111111, \"#46039f\"], [0.2222222222222222, \"#7201a8\"], [0.3333333333333333, \"#9c179e\"], [0.4444444444444444, \"#bd3786\"], [0.5555555555555556, \"#d8576b\"], [0.6666666666666666, \"#ed7953\"], [0.7777777777777778, \"#fb9f3a\"], [0.8888888888888888, \"#fdca26\"], [1.0, \"#f0f921\"]], \"sequentialminus\": [[0.0, \"#0d0887\"], [0.1111111111111111, \"#46039f\"], [0.2222222222222222, \"#7201a8\"], [0.3333333333333333, \"#9c179e\"], [0.4444444444444444, \"#bd3786\"], [0.5555555555555556, \"#d8576b\"], [0.6666666666666666, \"#ed7953\"], [0.7777777777777778, \"#fb9f3a\"], [0.8888888888888888, \"#fdca26\"], [1.0, \"#f0f921\"]]}, \"colorway\": [\"#636efa\", \"#EF553B\", \"#00cc96\", \"#ab63fa\", \"#FFA15A\", \"#19d3f3\", \"#FF6692\", \"#B6E880\", \"#FF97FF\", \"#FECB52\"], \"font\": {\"color\": \"#2a3f5f\"}, \"geo\": {\"bgcolor\": \"white\", \"lakecolor\": \"white\", \"landcolor\": \"#E5ECF6\", \"showlakes\": true, \"showland\": true, \"subunitcolor\": \"white\"}, \"hoverlabel\": {\"align\": \"left\"}, \"hovermode\": \"closest\", \"mapbox\": {\"style\": \"light\"}, \"paper_bgcolor\": \"white\", \"plot_bgcolor\": \"#E5ECF6\", \"polar\": {\"angularaxis\": {\"gridcolor\": \"white\", \"linecolor\": \"white\", \"ticks\": \"\"}, \"bgcolor\": \"#E5ECF6\", \"radialaxis\": {\"gridcolor\": \"white\", \"linecolor\": \"white\", \"ticks\": \"\"}}, \"scene\": {\"xaxis\": {\"backgroundcolor\": \"#E5ECF6\", \"gridcolor\": \"white\", \"gridwidth\": 2, \"linecolor\": \"white\", \"showbackground\": true, \"ticks\": \"\", \"zerolinecolor\": \"white\"}, \"yaxis\": {\"backgroundcolor\": \"#E5ECF6\", \"gridcolor\": \"white\", \"gridwidth\": 2, \"linecolor\": \"white\", \"showbackground\": true, \"ticks\": \"\", \"zerolinecolor\": \"white\"}, \"zaxis\": {\"backgroundcolor\": \"#E5ECF6\", \"gridcolor\": \"white\", \"gridwidth\": 2, \"linecolor\": \"white\", \"showbackground\": true, \"ticks\": \"\", \"zerolinecolor\": \"white\"}}, \"shapedefaults\": {\"line\": {\"color\": \"#2a3f5f\"}}, \"ternary\": {\"aaxis\": {\"gridcolor\": \"white\", \"linecolor\": \"white\", \"ticks\": \"\"}, \"baxis\": {\"gridcolor\": \"white\", \"linecolor\": \"white\", \"ticks\": \"\"}, \"bgcolor\": \"#E5ECF6\", \"caxis\": {\"gridcolor\": \"white\", \"linecolor\": \"white\", \"ticks\": \"\"}}, \"title\": {\"x\": 0.05}, \"xaxis\": {\"automargin\": true, \"gridcolor\": \"white\", \"linecolor\": \"white\", \"ticks\": \"\", \"title\": {\"standoff\": 15}, \"zerolinecolor\": \"white\", \"zerolinewidth\": 2}, \"yaxis\": {\"automargin\": true, \"gridcolor\": \"white\", \"linecolor\": \"white\", \"ticks\": \"\", \"title\": {\"standoff\": 15}, \"zerolinecolor\": \"white\", \"zerolinewidth\": 2}}}},                        {\"responsive\": true}                    ).then(function(){\n",
       "                            \n",
       "var gd = document.getElementById('85884493-3c02-4c57-97b9-756e686b4df7');\n",
       "var x = new MutationObserver(function (mutations, observer) {{\n",
       "        var display = window.getComputedStyle(gd).display;\n",
       "        if (!display || display === 'none') {{\n",
       "            console.log([gd, 'removed!']);\n",
       "            Plotly.purge(gd);\n",
       "            observer.disconnect();\n",
       "        }}\n",
       "}});\n",
       "\n",
       "// Listen for the removal of the full notebook cells\n",
       "var notebookContainer = gd.closest('#notebook-container');\n",
       "if (notebookContainer) {{\n",
       "    x.observe(notebookContainer, {childList: true});\n",
       "}}\n",
       "\n",
       "// Listen for the clearing of the current output cell\n",
       "var outputEl = gd.closest('.output');\n",
       "if (outputEl) {{\n",
       "    x.observe(outputEl, {childList: true});\n",
       "}}\n",
       "\n",
       "                        })                };                });            </script>        </div>"
      ]
     },
     "metadata": {},
     "output_type": "display_data"
    }
   ],
   "source": [
    "import plotly.graph_objects as go\n",
    "fig = go.Figure(data=go.Bar(y=error))\n",
    "fig.show()"
   ]
  },
  {
   "cell_type": "code",
   "execution_count": null,
   "id": "advised-pattern",
   "metadata": {},
   "outputs": [],
   "source": []
  },
  {
   "cell_type": "code",
   "execution_count": 40,
   "id": "alone-fairy",
   "metadata": {},
   "outputs": [
    {
     "data": {
      "image/png": "[encoded data removed]",
      "text/plain": [
       "<Figure size 648x432 with 2 Axes>"
      ]
     },
     "metadata": {},
     "output_type": "display_data"
    }
   ],
   "source": [
    "fig2 = model.plot_components(forecast)\n"
   ]
  },
  {
   "cell_type": "code",
   "execution_count": 41,
   "id": "restricted-security",
   "metadata": {},
   "outputs": [
    {
     "name": "stderr",
     "output_type": "stream",
     "text": [
      "INFO:fbprophet:Disabling yearly seasonality. Run prophet with yearly_seasonality=True to override this.\n",
      "INFO:fbprophet:Disabling daily seasonality. Run prophet with daily_seasonality=True to override this.\n"
     ]
    }
   ],
   "source": [
    "forecast = Prophet(interval_width=0.95).fit(df).predict(future)"
   ]
  },
  {
   "cell_type": "code",
   "execution_count": 42,
   "id": "soviet-venture",
   "metadata": {},
   "outputs": [
    {
     "data": {
      "text/html": [
       "<div>\n",
       "<style scoped>\n",
       "    .dataframe tbody tr th:only-of-type {\n",
       "        vertical-align: middle;\n",
       "    }\n",
       "\n",
       "    .dataframe tbody tr th {\n",
       "        vertical-align: top;\n",
       "    }\n",
       "\n",
       "    .dataframe thead th {\n",
       "        text-align: right;\n",
       "    }\n",
       "</style>\n",
       "<table border=\"1\" class=\"dataframe\">\n",
       "  <thead>\n",
       "    <tr style=\"text-align: right;\">\n",
       "      <th></th>\n",
       "      <th>ds</th>\n",
       "      <th>trend</th>\n",
       "      <th>yhat_lower</th>\n",
       "      <th>yhat_upper</th>\n",
       "      <th>trend_lower</th>\n",
       "      <th>trend_upper</th>\n",
       "      <th>additive_terms</th>\n",
       "      <th>additive_terms_lower</th>\n",
       "      <th>additive_terms_upper</th>\n",
       "      <th>weekly</th>\n",
       "      <th>weekly_lower</th>\n",
       "      <th>weekly_upper</th>\n",
       "      <th>multiplicative_terms</th>\n",
       "      <th>multiplicative_terms_lower</th>\n",
       "      <th>multiplicative_terms_upper</th>\n",
       "      <th>yhat</th>\n",
       "    </tr>\n",
       "  </thead>\n",
       "  <tbody>\n",
       "    <tr>\n",
       "      <th>0</th>\n",
       "      <td>2019-01-11</td>\n",
       "      <td>3279.483078</td>\n",
       "      <td>1962.286469</td>\n",
       "      <td>4613.671076</td>\n",
       "      <td>3279.483078</td>\n",
       "      <td>3279.483078</td>\n",
       "      <td>20.660936</td>\n",
       "      <td>20.660936</td>\n",
       "      <td>20.660936</td>\n",
       "      <td>20.660936</td>\n",
       "      <td>20.660936</td>\n",
       "      <td>20.660936</td>\n",
       "      <td>0.0</td>\n",
       "      <td>0.0</td>\n",
       "      <td>0.0</td>\n",
       "      <td>3300.144014</td>\n",
       "    </tr>\n",
       "    <tr>\n",
       "      <th>1</th>\n",
       "      <td>2019-01-12</td>\n",
       "      <td>3292.056668</td>\n",
       "      <td>2046.708650</td>\n",
       "      <td>4557.178426</td>\n",
       "      <td>3292.056668</td>\n",
       "      <td>3292.056668</td>\n",
       "      <td>7.339836</td>\n",
       "      <td>7.339836</td>\n",
       "      <td>7.339836</td>\n",
       "      <td>7.339836</td>\n",
       "      <td>7.339836</td>\n",
       "      <td>7.339836</td>\n",
       "      <td>0.0</td>\n",
       "      <td>0.0</td>\n",
       "      <td>0.0</td>\n",
       "      <td>3299.396504</td>\n",
       "    </tr>\n",
       "    <tr>\n",
       "      <th>2</th>\n",
       "      <td>2019-01-13</td>\n",
       "      <td>3304.630259</td>\n",
       "      <td>2084.407888</td>\n",
       "      <td>4479.721552</td>\n",
       "      <td>3304.630259</td>\n",
       "      <td>3304.630259</td>\n",
       "      <td>-9.954994</td>\n",
       "      <td>-9.954994</td>\n",
       "      <td>-9.954994</td>\n",
       "      <td>-9.954994</td>\n",
       "      <td>-9.954994</td>\n",
       "      <td>-9.954994</td>\n",
       "      <td>0.0</td>\n",
       "      <td>0.0</td>\n",
       "      <td>0.0</td>\n",
       "      <td>3294.675265</td>\n",
       "    </tr>\n",
       "    <tr>\n",
       "      <th>3</th>\n",
       "      <td>2019-01-14</td>\n",
       "      <td>3317.203849</td>\n",
       "      <td>2189.422728</td>\n",
       "      <td>4609.896001</td>\n",
       "      <td>3317.203849</td>\n",
       "      <td>3317.203849</td>\n",
       "      <td>46.866842</td>\n",
       "      <td>46.866842</td>\n",
       "      <td>46.866842</td>\n",
       "      <td>46.866842</td>\n",
       "      <td>46.866842</td>\n",
       "      <td>46.866842</td>\n",
       "      <td>0.0</td>\n",
       "      <td>0.0</td>\n",
       "      <td>0.0</td>\n",
       "      <td>3364.070691</td>\n",
       "    </tr>\n",
       "    <tr>\n",
       "      <th>4</th>\n",
       "      <td>2019-01-15</td>\n",
       "      <td>3329.777440</td>\n",
       "      <td>1930.007629</td>\n",
       "      <td>4561.104820</td>\n",
       "      <td>3329.777440</td>\n",
       "      <td>3329.777440</td>\n",
       "      <td>-11.548890</td>\n",
       "      <td>-11.548890</td>\n",
       "      <td>-11.548890</td>\n",
       "      <td>-11.548890</td>\n",
       "      <td>-11.548890</td>\n",
       "      <td>-11.548890</td>\n",
       "      <td>0.0</td>\n",
       "      <td>0.0</td>\n",
       "      <td>0.0</td>\n",
       "      <td>3318.228549</td>\n",
       "    </tr>\n",
       "    <tr>\n",
       "      <th>...</th>\n",
       "      <td>...</td>\n",
       "      <td>...</td>\n",
       "      <td>...</td>\n",
       "      <td>...</td>\n",
       "      <td>...</td>\n",
       "      <td>...</td>\n",
       "      <td>...</td>\n",
       "      <td>...</td>\n",
       "      <td>...</td>\n",
       "      <td>...</td>\n",
       "      <td>...</td>\n",
       "      <td>...</td>\n",
       "      <td>...</td>\n",
       "      <td>...</td>\n",
       "      <td>...</td>\n",
       "      <td>...</td>\n",
       "    </tr>\n",
       "    <tr>\n",
       "      <th>725</th>\n",
       "      <td>2021-01-05</td>\n",
       "      <td>-1469.126403</td>\n",
       "      <td>-18332.206667</td>\n",
       "      <td>17749.400208</td>\n",
       "      <td>-18532.680820</td>\n",
       "      <td>17366.111712</td>\n",
       "      <td>-11.548890</td>\n",
       "      <td>-11.548890</td>\n",
       "      <td>-11.548890</td>\n",
       "      <td>-11.548890</td>\n",
       "      <td>-11.548890</td>\n",
       "      <td>-11.548890</td>\n",
       "      <td>0.0</td>\n",
       "      <td>0.0</td>\n",
       "      <td>0.0</td>\n",
       "      <td>-1480.675293</td>\n",
       "    </tr>\n",
       "    <tr>\n",
       "      <th>726</th>\n",
       "      <td>2021-01-06</td>\n",
       "      <td>-1492.309887</td>\n",
       "      <td>-18590.401624</td>\n",
       "      <td>17448.496979</td>\n",
       "      <td>-18661.069630</td>\n",
       "      <td>17443.500724</td>\n",
       "      <td>13.227643</td>\n",
       "      <td>13.227643</td>\n",
       "      <td>13.227643</td>\n",
       "      <td>13.227643</td>\n",
       "      <td>13.227643</td>\n",
       "      <td>13.227643</td>\n",
       "      <td>0.0</td>\n",
       "      <td>0.0</td>\n",
       "      <td>0.0</td>\n",
       "      <td>-1479.082243</td>\n",
       "    </tr>\n",
       "    <tr>\n",
       "      <th>727</th>\n",
       "      <td>2021-01-07</td>\n",
       "      <td>-1515.493371</td>\n",
       "      <td>-19047.861698</td>\n",
       "      <td>17440.459886</td>\n",
       "      <td>-18791.771353</td>\n",
       "      <td>17522.259706</td>\n",
       "      <td>-66.591373</td>\n",
       "      <td>-66.591373</td>\n",
       "      <td>-66.591373</td>\n",
       "      <td>-66.591373</td>\n",
       "      <td>-66.591373</td>\n",
       "      <td>-66.591373</td>\n",
       "      <td>0.0</td>\n",
       "      <td>0.0</td>\n",
       "      <td>0.0</td>\n",
       "      <td>-1582.084744</td>\n",
       "    </tr>\n",
       "    <tr>\n",
       "      <th>728</th>\n",
       "      <td>2021-01-08</td>\n",
       "      <td>-1538.676855</td>\n",
       "      <td>-18527.259165</td>\n",
       "      <td>17902.410911</td>\n",
       "      <td>-18922.473076</td>\n",
       "      <td>17603.529836</td>\n",
       "      <td>20.660936</td>\n",
       "      <td>20.660936</td>\n",
       "      <td>20.660936</td>\n",
       "      <td>20.660936</td>\n",
       "      <td>20.660936</td>\n",
       "      <td>20.660936</td>\n",
       "      <td>0.0</td>\n",
       "      <td>0.0</td>\n",
       "      <td>0.0</td>\n",
       "      <td>-1518.015919</td>\n",
       "    </tr>\n",
       "    <tr>\n",
       "      <th>729</th>\n",
       "      <td>2021-01-09</td>\n",
       "      <td>-1561.860339</td>\n",
       "      <td>-18871.129602</td>\n",
       "      <td>17969.213467</td>\n",
       "      <td>-19029.512152</td>\n",
       "      <td>17684.799967</td>\n",
       "      <td>7.339836</td>\n",
       "      <td>7.339836</td>\n",
       "      <td>7.339836</td>\n",
       "      <td>7.339836</td>\n",
       "      <td>7.339836</td>\n",
       "      <td>7.339836</td>\n",
       "      <td>0.0</td>\n",
       "      <td>0.0</td>\n",
       "      <td>0.0</td>\n",
       "      <td>-1554.520503</td>\n",
       "    </tr>\n",
       "  </tbody>\n",
       "</table>\n",
       "<p>730 rows × 16 columns</p>\n",
       "</div>"
      ],
      "text/plain": [
       "            ds        trend    yhat_lower    yhat_upper   trend_lower  \\\n",
       "0   2019-01-11  3279.483078   1962.286469   4613.671076   3279.483078   \n",
       "1   2019-01-12  3292.056668   2046.708650   4557.178426   3292.056668   \n",
       "2   2019-01-13  3304.630259   2084.407888   4479.721552   3304.630259   \n",
       "3   2019-01-14  3317.203849   2189.422728   4609.896001   3317.203849   \n",
       "4   2019-01-15  3329.777440   1930.007629   4561.104820   3329.777440   \n",
       "..         ...          ...           ...           ...           ...   \n",
       "725 2021-01-05 -1469.126403 -18332.206667  17749.400208 -18532.680820   \n",
       "726 2021-01-06 -1492.309887 -18590.401624  17448.496979 -18661.069630   \n",
       "727 2021-01-07 -1515.493371 -19047.861698  17440.459886 -18791.771353   \n",
       "728 2021-01-08 -1538.676855 -18527.259165  17902.410911 -18922.473076   \n",
       "729 2021-01-09 -1561.860339 -18871.129602  17969.213467 -19029.512152   \n",
       "\n",
       "      trend_upper  additive_terms  additive_terms_lower  additive_terms_upper  \\\n",
       "0     3279.483078       20.660936             20.660936             20.660936   \n",
       "1     3292.056668        7.339836              7.339836              7.339836   \n",
       "2     3304.630259       -9.954994             -9.954994             -9.954994   \n",
       "3     3317.203849       46.866842             46.866842             46.866842   \n",
       "4     3329.777440      -11.548890            -11.548890            -11.548890   \n",
       "..            ...             ...                   ...                   ...   \n",
       "725  17366.111712      -11.548890            -11.548890            -11.548890   \n",
       "726  17443.500724       13.227643             13.227643             13.227643   \n",
       "727  17522.259706      -66.591373            -66.591373            -66.591373   \n",
       "728  17603.529836       20.660936             20.660936             20.660936   \n",
       "729  17684.799967        7.339836              7.339836              7.339836   \n",
       "\n",
       "        weekly  weekly_lower  weekly_upper  multiplicative_terms  \\\n",
       "0    20.660936     20.660936     20.660936                   0.0   \n",
       "1     7.339836      7.339836      7.339836                   0.0   \n",
       "2    -9.954994     -9.954994     -9.954994                   0.0   \n",
       "3    46.866842     46.866842     46.866842                   0.0   \n",
       "4   -11.548890    -11.548890    -11.548890                   0.0   \n",
       "..         ...           ...           ...                   ...   \n",
       "725 -11.548890    -11.548890    -11.548890                   0.0   \n",
       "726  13.227643     13.227643     13.227643                   0.0   \n",
       "727 -66.591373    -66.591373    -66.591373                   0.0   \n",
       "728  20.660936     20.660936     20.660936                   0.0   \n",
       "729   7.339836      7.339836      7.339836                   0.0   \n",
       "\n",
       "     multiplicative_terms_lower  multiplicative_terms_upper         yhat  \n",
       "0                           0.0                         0.0  3300.144014  \n",
       "1                           0.0                         0.0  3299.396504  \n",
       "2                           0.0                         0.0  3294.675265  \n",
       "3                           0.0                         0.0  3364.070691  \n",
       "4                           0.0                         0.0  3318.228549  \n",
       "..                          ...                         ...          ...  \n",
       "725                         0.0                         0.0 -1480.675293  \n",
       "726                         0.0                         0.0 -1479.082243  \n",
       "727                         0.0                         0.0 -1582.084744  \n",
       "728                         0.0                         0.0 -1518.015919  \n",
       "729                         0.0                         0.0 -1554.520503  \n",
       "\n",
       "[730 rows x 16 columns]"
      ]
     },
     "execution_count": 42,
     "metadata": {},
     "output_type": "execute_result"
    }
   ],
   "source": [
    "forecast"
   ]
  },
  {
   "cell_type": "code",
   "execution_count": 43,
   "id": "velvet-luther",
   "metadata": {},
   "outputs": [
    {
     "data": {
      "image/png": "[encoded data removed]",
      "text/plain": [
       "<Figure size 648x432 with 2 Axes>"
      ]
     },
     "metadata": {},
     "output_type": "display_data"
    }
   ],
   "source": [
    "fig = model.plot_components(forecast)"
   ]
  },
  {
   "cell_type": "code",
   "execution_count": 94,
   "id": "deadly-pathology",
   "metadata": {},
   "outputs": [
    {
     "name": "stdout",
     "output_type": "stream",
     "text": [
      "            ds            y   Log_Ret  Volatility\n",
      "350 2019-12-27  7268.265879  0.005136    0.623777\n",
      "351 2019-12-28  7337.169290  0.009435    0.623815\n",
      "352 2019-12-29  7409.336887  0.009788    0.623855\n",
      "353 2019-12-30  7270.950571 -0.018854    0.624019\n",
      "354 2019-12-31  7216.095591 -0.007573    0.623344\n",
      "355 2020-01-01  7220.191982  0.000568    0.622879\n",
      "356 2020-01-02  6992.200565 -0.032086    0.622002\n",
      "357 2020-01-03  7315.080128  0.045143    0.623359\n",
      "358 2020-01-04  7375.768309  0.008262    0.623372\n",
      "359 2020-01-05  7370.259475 -0.000747    0.623373\n",
      "360 2020-01-06  7793.858569  0.055883    0.625710\n",
      "361 2020-01-07  8174.912443  0.047734    0.627147\n",
      "362 2020-01-08  8058.613079 -0.014329    0.627315\n",
      "363 2020-01-09  7841.088269 -0.027364    0.627663\n",
      "364 2020-01-10  8165.200971  0.040504    0.627015\n"
     ]
    },
    {
     "data": {
      "text/plain": [
       "array([<AxesSubplot:>, <AxesSubplot:>], dtype=object)"
      ]
     },
     "execution_count": 94,
     "metadata": {},
     "output_type": "execute_result"
    },
    {
     "data": {
      "image/png": "[encoded data removed]",
      "text/plain": [
       "<Figure size 576x432 with 2 Axes>"
      ]
     },
     "metadata": {
      "needs_background": "light"
     },
     "output_type": "display_data"
    }
   ],
   "source": [
    "import pandas_datareader.data as web\n",
    "import yfinance as yf\n",
    "\n",
    "# Pull NIFTY data from Yahoo finance \n",
    "#NIFTY = yf.download('^NSEI',start='2012-6-1', end='2016-6-1')\n",
    "\n",
    "# # Compute the logarithmic returns using the Closing price \n",
    "df['Log_Ret'] = np.log(df['y'] / df['y'].shift(1))\n",
    "\n",
    "#Compute Volatility using the pandas rolling standard deviation function\n",
    "df['Volatility'] = df['Log_Ret'].rolling(window=252).std() * np.sqrt(252)\n",
    "print(df.tail(15))\n",
    "\n",
    "# # Plot the NIFTY Price series and the Volatility\n",
    "df[['y', 'Volatility']].plot(subplots=True, color='blue',figsize=(8, 6))\n"
   ]
  },
  {
   "cell_type": "code",
   "execution_count": null,
   "id": "forbidden-replacement",
   "metadata": {},
   "outputs": [],
   "source": []
  }
 ],
 "metadata": {
  "kernelspec": {
   "display_name": "forcast",
   "language": "python",
   "name": "forcast"
  },
  "language_info": {
   "codemirror_mode": {
    "name": "ipython",
    "version": 3
   },
   "file_extension": ".py",
   "mimetype": "text/x-python",
   "name": "python",
   "nbconvert_exporter": "python",
   "pygments_lexer": "ipython3",
   "version": "3.7.9"
  }
 },
 "nbformat": 4,
 "nbformat_minor": 5
}
